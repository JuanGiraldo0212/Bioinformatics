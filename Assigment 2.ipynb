{
 "cells": [
  {
   "cell_type": "markdown",
   "metadata": {},
   "source": [
    "# Assigment 2\n",
    "### Juan Giraldo"
   ]
  },
  {
   "cell_type": "markdown",
   "metadata": {},
   "source": [
    "## 1) Programming: Optimal Local and Global Pairwise Sequence Alignment"
   ]
  },
  {
   "cell_type": "markdown",
   "metadata": {},
   "source": [
    "Given two DNA sequences, find in the best local and global alignment, its corresponding alignment score, the possibility of existing multiple optimal alignments, and, if the answer is positive, the set of all optimal alignments.\n",
    "\n",
    "s(i,j) = {+2 if i and j match, -1 if mismatch}  \n",
    "y(g) = -2g"
   ]
  },
  {
   "cell_type": "markdown",
   "metadata": {},
   "source": [
    "First we load the data from the input file (The file needs to be in the same folder as the notebook for this to work) and store the values in variables"
   ]
  },
  {
   "cell_type": "code",
   "execution_count": 82,
   "metadata": {},
   "outputs": [],
   "source": [
    "MATCH_SCORE = 2\n",
    "MISMATCH_SCORE = -1\n",
    "GAP = -2"
   ]
  },
  {
   "cell_type": "code",
   "execution_count": 83,
   "metadata": {},
   "outputs": [
    {
     "name": "stdout",
     "output_type": "stream",
     "text": [
      "GATTAC\n",
      "GCATGCT\n"
     ]
    }
   ],
   "source": [
    "f = open(\"2.in\", \"r\")\n",
    "x_seq = f.readline().strip()\n",
    "y_seq = f.readline().strip()\n",
    "print(x_seq)\n",
    "print(y_seq)"
   ]
  },
  {
   "cell_type": "markdown",
   "metadata": {},
   "source": [
    "This method is used to print a matrix given an array of arrays"
   ]
  },
  {
   "cell_type": "code",
   "execution_count": 84,
   "metadata": {},
   "outputs": [],
   "source": [
    "def print_matrix(matrix):\n",
    "    formatted_matrix = \"\"\n",
    "    for i in range(len(matrix)):\n",
    "        row = \"\"\n",
    "        for j in range(len(matrix[0])):\n",
    "            row+= str(matrix[i][j])\n",
    "            if j != (len(matrix[0])-1):\n",
    "                row+=\" \"\n",
    "        row+= \"\\n\"\n",
    "        formatted_matrix+=row\n",
    "    print (formatted_matrix)"
   ]
  },
  {
   "cell_type": "markdown",
   "metadata": {},
   "source": [
    "This method return a score depending if we have a match or a mismatch"
   ]
  },
  {
   "cell_type": "code",
   "execution_count": 85,
   "metadata": {},
   "outputs": [],
   "source": [
    "def scoring(i, j):\n",
    "    if match(i, j):\n",
    "        return MATCH_SCORE\n",
    "    else:\n",
    "        return MISMATCH_SCORE"
   ]
  },
  {
   "cell_type": "markdown",
   "metadata": {},
   "source": [
    "This method checks if there is a match in the sequences"
   ]
  },
  {
   "cell_type": "code",
   "execution_count": 86,
   "metadata": {},
   "outputs": [],
   "source": [
    "def match(i, j):\n",
    "    first_letter = y_seq[j-1]\n",
    "    second_letter = x_seq[i-1]\n",
    "    return first_letter == second_letter"
   ]
  },
  {
   "cell_type": "markdown",
   "metadata": {},
   "source": [
    "## Global aligment"
   ]
  },
  {
   "cell_type": "markdown",
   "metadata": {},
   "source": [
    "Now we will use the Needleman-Wunch algorithm to find the optimal global aligment, first we have to build the dynamic programing matrix"
   ]
  },
  {
   "cell_type": "code",
   "execution_count": 87,
   "metadata": {
    "scrolled": true
   },
   "outputs": [
    {
     "name": "stdout",
     "output_type": "stream",
     "text": [
      "Optimal score:\n",
      "1\n",
      "\n",
      "Dynamic programming matrix:\n",
      "0 -2 -4 -6 -8 -10 -12 -14\n",
      "-2 2 0 -2 -4 -6 -8 -10\n",
      "-4 0 1 2 0 -2 -4 -6\n",
      "-6 -2 -1 0 4 2 0 -2\n",
      "-8 -4 -3 -2 2 3 1 2\n",
      "-10 -6 -5 -1 0 1 2 0\n",
      "-12 -8 -4 -3 -2 -1 3 1\n",
      "\n"
     ]
    }
   ],
   "source": [
    "#Create the matrix using the two sequences\n",
    "matrix =[[0 for x in range(len(y_seq)+1)] for y in range(len(x_seq)+1)]\n",
    "#Fill the matrix using the algorithm\n",
    "for i in range(len(matrix)):\n",
    "        for j in range(len(matrix[0])):\n",
    "            #If we are in the first row we calculate the gap penalty for each space\n",
    "            if i == 0:\n",
    "                matrix[i][j] = j*GAP\n",
    "            #If we are in the first column we calculate the gap penalty for each space\n",
    "            elif j == 0:\n",
    "                matrix[i][j] = i*GAP\n",
    "            #If we are anywhere else we use the algorithm to calculate the values of the neighbors\n",
    "            else:\n",
    "                value1 = matrix[i-1][j-1] + scoring(i,j)\n",
    "                value2 = matrix[i-1][j] + GAP\n",
    "                value3 = matrix[i][j-1] + GAP\n",
    "                #We choose the maximun value\n",
    "                matrix[i][j] = max(value1, value2, value3)\n",
    "print(\"Optimal score:\\n\"+str(matrix[i][j])+\"\\n\")\n",
    "print(\"Dynamic programming matrix:\")\n",
    "print_matrix(matrix)"
   ]
  },
  {
   "cell_type": "markdown",
   "metadata": {},
   "source": [
    "Now we can proced with the traceback in order to find the optimal aligment score and the arrows"
   ]
  },
  {
   "cell_type": "code",
   "execution_count": 88,
   "metadata": {},
   "outputs": [
    {
     "name": "stdout",
     "output_type": "stream",
     "text": [
      "Optimal aligment:\n",
      "G-ATTAC-\n",
      "GCATG-CT\n",
      "\n",
      "Multiple aligments:\n",
      "YES\n"
     ]
    }
   ],
   "source": [
    "temp_seq_x=\"\"\n",
    "temp_seq_y=\"\"\n",
    "x_seq_index=len(x_seq)-1\n",
    "y_seq_index=len(y_seq)-1\n",
    "multiple_sol = False\n",
    "#We are going to loop until we get to the top-left corner\n",
    "while (i != 0 and j != 0):\n",
    "    #We calculate the value of the neighbors and store their position\n",
    "    value_hash = {}\n",
    "    value1 = matrix[i-1][j-1]\n",
    "    value_hash[value1] = [i-1,j-1]\n",
    "    value2 = matrix[i-1][j]\n",
    "    value_hash[value2] = [i-1,j]\n",
    "    value3 = matrix[i][j-1] \n",
    "    value_hash[value3] = [i,j-1]\n",
    "    #If we have a match in the sequences we move diagonally\n",
    "    if(match(i,j)):\n",
    "        i-=1\n",
    "        j-=1\n",
    "        #As we moved diagonally we add a base from x and y\n",
    "        temp_seq_x=x_seq[x_seq_index]+temp_seq_x\n",
    "        temp_seq_y=y_seq[y_seq_index]+temp_seq_y\n",
    "        x_seq_index-=1\n",
    "        y_seq_index-=1\n",
    "        #We check if we have multiple aligments\n",
    "        if (value1 <= value2) or (value1 <= value3):\n",
    "            multiple_sol = True\n",
    "    #If we don't have a match we use the values to find where to move\n",
    "    else:\n",
    "        if not multiple_sol:\n",
    "            multiple_sol = len([value1, value2, value3]) != len(set([value1, value2, value3]))\n",
    "        #We take the largest value of the neighbors and we move there\n",
    "        positions = value_hash[max(value1, value2, value3)]\n",
    "        #As we moved diagonally we add a base from x and y\n",
    "        if((i-1 == positions[0]) and (j-1 == positions[1])):\n",
    "            temp_seq_x=x_seq[x_seq_index]+temp_seq_x\n",
    "            temp_seq_y=y_seq[y_seq_index]+temp_seq_y\n",
    "            x_seq_index-=1\n",
    "            y_seq_index-=1\n",
    "        #As we moved left we add a base from y and a - to x\n",
    "        elif((i == positions[0]) and (j-1 == positions[1])):\n",
    "            temp_seq_y=y_seq[y_seq_index]+temp_seq_y\n",
    "            temp_seq_x=\"-\"+temp_seq_x\n",
    "            y_seq_index-=1\n",
    "        #As we moved up we add a base from x and a - to y\n",
    "        elif((i-1 == positions[0]) and (j == positions[1])):\n",
    "            temp_seq_x=x_seq[x_seq_index]+temp_seq_x\n",
    "            temp_seq_y=\"-\"+temp_seq_y\n",
    "            x_seq_index-=1\n",
    "        i = positions[0]\n",
    "        j = positions[1]\n",
    "print(\"Optimal aligment:\")\n",
    "print(temp_seq_x)\n",
    "print(temp_seq_y)\n",
    "print(\"\\nMultiple aligments:\\n\"+(\"YES\" if multiple_sol else \"NO\"))"
   ]
  },
  {
   "cell_type": "markdown",
   "metadata": {},
   "source": [
    "## Local aligment"
   ]
  },
  {
   "cell_type": "code",
   "execution_count": 89,
   "metadata": {
    "scrolled": true
   },
   "outputs": [
    {
     "name": "stdout",
     "output_type": "stream",
     "text": [
      "GATTAC\n",
      "GCATGCT\n"
     ]
    }
   ],
   "source": [
    "print(x_seq)\n",
    "print(y_seq)"
   ]
  },
  {
   "cell_type": "markdown",
   "metadata": {},
   "source": [
    "This method checks if a value is greater than 0, if it isn't we change it to 0"
   ]
  },
  {
   "cell_type": "code",
   "execution_count": 90,
   "metadata": {},
   "outputs": [],
   "source": [
    "def checkGreaterThanZero(value):\n",
    "    return value if value > 0 else 0"
   ]
  },
  {
   "cell_type": "markdown",
   "metadata": {},
   "source": [
    "Now we will use the Smith-Waterman algorithm to find the optimal global aligment, first we have to build the dynamic programing matrix"
   ]
  },
  {
   "cell_type": "code",
   "execution_count": 91,
   "metadata": {
    "scrolled": true
   },
   "outputs": [
    {
     "name": "stdout",
     "output_type": "stream",
     "text": [
      "Optimal score:\n",
      "4\n",
      "\n",
      "Dynamic programming matrix:\n",
      "0 0 0 0 0 0 0 0\n",
      "0 2 0 0 0 2 0 0\n",
      "0 0 1 2 0 0 1 0\n",
      "0 0 0 0 4 2 0 3\n",
      "0 0 0 0 2 3 1 2\n",
      "0 0 0 2 0 1 2 0\n",
      "0 0 2 0 1 0 3 1\n",
      "\n"
     ]
    }
   ],
   "source": [
    "#We create a matrix using the sequences\n",
    "matrix =[[0 for x in range(len(y_seq)+1)] for y in range(len(x_seq)+1)]\n",
    "#We define an array to store our maximun value and its positions in the matrix\n",
    "max_value = [0, 0, 0]\n",
    "multiple = False\n",
    "#We loop the matrix in order to fill it\n",
    "for i in range(len(matrix)):\n",
    "        for j in range(len(matrix[0])):\n",
    "            #If we are in the first row we add the gap penalty but we have to check if the value is greater than zero\n",
    "            if i == 0:\n",
    "                matrix[i][j] = checkGreaterThanZero(j*GAP)\n",
    "            #If we are in the first column we add the gap penalty but we have to check if the value is greater than zero\n",
    "            elif j == 0:\n",
    "                matrix[i][j] = checkGreaterThanZero(i*GAP)\n",
    "            #In any other place we use the algorithm to calculate the values checking that they are greater than zero\n",
    "            #if not we turn them to zero\n",
    "            else:\n",
    "                value1 = checkGreaterThanZero(matrix[i-1][j-1] + scoring(i,j))\n",
    "                value2 = checkGreaterThanZero(matrix[i-1][j] + GAP)\n",
    "                value3 = checkGreaterThanZero(matrix[i][j-1] + GAP)\n",
    "                #We select the largest value\n",
    "                matrix[i][j] = max(value1, value2, value3)\n",
    "                #Here we are assigning the max value and checkig if we have multiple aligments\n",
    "                if matrix[i][j]>max_value[0]:\n",
    "                    max_value[0] = matrix[i][j]\n",
    "                    max_value[1] = i\n",
    "                    max_value[2] = j\n",
    "                    multiple = False\n",
    "                elif matrix[i][j]==max_value[0]:\n",
    "                    max_value[1] = i\n",
    "                    max_value[2] = j\n",
    "                    multiple = True\n",
    "print(\"Optimal score:\\n\"+str(max_value[0])+\"\\n\")\n",
    "print(\"Dynamic programming matrix:\")\n",
    "print_matrix(matrix)"
   ]
  },
  {
   "cell_type": "markdown",
   "metadata": {},
   "source": [
    "Now we do the traceback from the largest value to a zero"
   ]
  },
  {
   "cell_type": "code",
   "execution_count": 92,
   "metadata": {},
   "outputs": [
    {
     "name": "stdout",
     "output_type": "stream",
     "text": [
      "Optimal aligment:\n",
      "AT\n",
      "AT\n",
      "\n",
      "Multiple aligments:\n",
      "NO\n"
     ]
    }
   ],
   "source": [
    "#We start looping from the position of the largest value\n",
    "i = max_value[1]\n",
    "j = max_value[2]\n",
    "aligment = \"\"\n",
    "#We loop until we find a 0\n",
    "while(matrix[i][j] != 0):\n",
    "    #We add the base and then move diagonally\n",
    "    aligment = str(x_seq[i-1]) + aligment\n",
    "    i-=1\n",
    "    j-=1\n",
    "print(\"Optimal aligment:\\n\"+aligment)\n",
    "print(aligment+\"\\n\")\n",
    "print(\"Multiple aligments:\\n\"+(\"YES\" if multiple else \"NO\"))"
   ]
  },
  {
   "cell_type": "markdown",
   "metadata": {},
   "source": [
    "### f) Which parts of the program did you need to change in order to perform local rather than global pairwise sequence alignment? How many hours you put on this question?"
   ]
  },
  {
   "cell_type": "markdown",
   "metadata": {},
   "source": [
    "I had to create a new method to convert any negative value to zero, and also had to change the way the backtracking was done. Instead of starting at the bottom right corner, I had to start at the largest value in the matrix and move diagonally until I hit a zero. It took me 5 hours to implement the two algorithms."
   ]
  },
  {
   "cell_type": "markdown",
   "metadata": {},
   "source": [
    "## 2) Similarity Search using BLAST"
   ]
  },
  {
   "cell_type": "markdown",
   "metadata": {},
   "source": [
    "### a) Answer the following questions: "
   ]
  },
  {
   "cell_type": "markdown",
   "metadata": {},
   "source": [
    "#### 1. What is the number of hits reported by BLASTP?"
   ]
  },
  {
   "cell_type": "markdown",
   "metadata": {},
   "source": [
    "The number of hits reported by BLASTP was 1000."
   ]
  },
  {
   "cell_type": "markdown",
   "metadata": {},
   "source": [
    "#### 2. What is the number of hits with a Total score of 160 or above?"
   ]
  },
  {
   "cell_type": "markdown",
   "metadata": {},
   "source": [
    "The number of hits with a total score of 160 or above is 14."
   ]
  },
  {
   "cell_type": "markdown",
   "metadata": {},
   "source": [
    "#### 3. Which types of organisms do the proteins from the previous question belong to?"
   ]
  },
  {
   "cell_type": "markdown",
   "metadata": {},
   "source": [
    "The proteins belong to betacoronavirus."
   ]
  },
  {
   "cell_type": "markdown",
   "metadata": {},
   "source": [
    "#### 4. Some of these organisms are parasitic. In which hosts are these organisms found?"
   ]
  },
  {
   "cell_type": "markdown",
   "metadata": {},
   "source": [
    "The organisms are found in humans."
   ]
  },
  {
   "cell_type": "markdown",
   "metadata": {},
   "source": [
    "#### 5. What type of disorders do the viruses cause whose proteins got a score of 160 or above in this search?"
   ]
  },
  {
   "cell_type": "markdown",
   "metadata": {},
   "source": [
    "They cause respiratory syndrome-related disorders."
   ]
  },
  {
   "cell_type": "markdown",
   "metadata": {},
   "source": [
    "#### 6. Give the alignment of the MERS envelope protein sequence with the SARS-CoV-2 coronavirus sequence. Specify the number of identical residues and % sequence identity, the number of similar residues and % similarity (in BLAST terminology: % positive), and the number and % of gaps.\n"
   ]
  },
  {
   "cell_type": "markdown",
   "metadata": {},
   "source": [
    "Query 1   MLPFVQERIGLFIVNFFIFTVVCAITLLVCMAFLTATRLCVQCMTGFNTLLVQPALYLYN  60\n",
    "\n",
    "          M  FV E  G  IVN  +  + C + LLV +A LTA RLC  C    N  LV+P+ Y+Y+\n",
    "\n",
    "Sbjct 1   MYSFVSEETGTLIVNSVLLFLACVVFLLVTLAILTALRLCAYCCNIVNVSLVKPSFYVYS  60\n",
    "\n",
    "Query  61  TGRSVYVKFQDSKPP  75\n",
    "\n",
    "             ++       S+ P\n",
    "             \n",
    "Sbjct  61  RVKN----LNSSRVP  71\n",
    "\n",
    "The number of identical residues is 7, the % of sequence identity is 37%, the number of similar residues is 39, the % similarity is 52% and the number and % of gaps is 4 and 5% respectively.\n",
    "\n"
   ]
  },
  {
   "cell_type": "markdown",
   "metadata": {},
   "source": [
    "### b) Are the scores for the hits with max scores of 160 and above significantly affected when using the PAM70 scoring matrix instead of the BLOSUM62 matrix?"
   ]
  },
  {
   "cell_type": "markdown",
   "metadata": {},
   "source": [
    "The scores are affected by only 2 points when using PAM70 instead of BLOSUM62, I would say that this change is not that significant."
   ]
  },
  {
   "cell_type": "markdown",
   "metadata": {},
   "source": [
    "### c) Does the alignment between MERS and SARS-CoV-2 proteins change when using the PAM70 scoring matrix instead of the BLOSUM62 matrix? If so, how?\n"
   ]
  },
  {
   "cell_type": "markdown",
   "metadata": {},
   "source": [
    "The alignment changes a little bit, for example there are no gaps when using PAM70, also the identity percentage grows from 37% to 41% but the percentage of positives goes down from 52% to 51%. Overall the alignment is better when we use PAM70."
   ]
  },
  {
   "cell_type": "markdown",
   "metadata": {},
   "source": [
    "### d) What does the expect parameter mean? What will happen if the expect threshold is increased,from its default value of 10 to a 100?\n"
   ]
  },
  {
   "cell_type": "markdown",
   "metadata": {},
   "source": [
    "The expect parameter means the expectation of finding the given sequence by random chance in the database. If we increase the value from 10 to 100 the significance threshold for reporting matches against the database will be larger and we will have a greater number of matches.\n"
   ]
  },
  {
   "cell_type": "markdown",
   "metadata": {},
   "source": [
    "### e) Based on the respective alignments, would you say that the MERS envelope protein is very similar to the sequence for the SARS-CoV-2 envelope protein? Briefly justify your answer"
   ]
  },
  {
   "cell_type": "markdown",
   "metadata": {},
   "source": [
    "I would say that they are not that similar because the identity percentage is below 50% and the positives are just a few points above 50%."
   ]
  },
  {
   "cell_type": "markdown",
   "metadata": {},
   "source": [
    "### f) MERS and SARS-CoV-2 both infect humans, but many of the envelope proteins with sequence similarity infect other mammals. One of the viruses with envelope protein sequence similarity infects the tapir. Which of these two envelope proteins infecting different species is more similar to the SARS-CoV-2 envelope protein: the MERS or the tapir virus?"
   ]
  },
  {
   "cell_type": "markdown",
   "metadata": {},
   "source": [
    "I would say that the MERS is more similar to the SARS-CoV-2 envelope protein, because the identity percentage between these two is 37% and when trying to find the alignment for the tapir coronavirus and the SARS-CoV-2 envelope protein, BLAST did not show any results.\n"
   ]
  },
  {
   "cell_type": "markdown",
   "metadata": {},
   "source": [
    "### g) Include how long you put on this question"
   ]
  },
  {
   "cell_type": "markdown",
   "metadata": {},
   "source": [
    "Approximately 3 hours."
   ]
  },
  {
   "cell_type": "markdown",
   "metadata": {},
   "source": [
    "## 3) Multiple Sequence Alignment"
   ]
  },
  {
   "cell_type": "markdown",
   "metadata": {},
   "source": [
    "### a) Use T-Coffee to obtain a multiple sequence alignment of these sequences. Report the multiple sequence alignment and the guide tree used for the alignment."
   ]
  },
  {
   "cell_type": "markdown",
   "metadata": {},
   "source": [
    "The alignment was:\n",
    "\n",
    "   >pACYC184  \n",
    "GAATTCCGGATGAGC----ATT-CATCAGGCGGGCAAGAATGTG--AA---TAAAGGCCG  \n",
    "GATAAA---ACTTGTGCTTATTTTTCTTTACG-GTCT------TTAAAAAGGCCGTAATA  \n",
    "TCCAGCTG-AACGGTCT---GGTTATAGGTACATTGAGCAACTGACTG-AAATGCCTCAA  \n",
    "AATGTTCT---TTACGATGCCATTG---GGATATATCAACGGTG-GT-ATATC  \n",
    "\n",
    ">pBR322  \n",
    "TTCTCATGTTTGACAGCT-TAT-CATC-GATAAGCTTTAATGCGGTAG---TTTATCACA  \n",
    "GTTAAAT-TGCTAACGCAGTCAG----GCACC-GTGT------ATGAA-ATCTAACAATG  \n",
    "---CGCTC-ATCGTCATCCTCGGCACCGTCACCCTGGAT-GCTGTAGGCATAGGCTTGG  \n",
    "TTATGCCGGTACTGCCGGGCCTCTTG---CGGGATATCGTCC-----A-TTCCG \n",
    "\n",
    ">pBR325  \n",
    "AGGCCATGTTTGACAGCT-TAT-CATC-GATAAGCTTTAATGCGGTAG---TTTATCACA   \n",
    "GTTAAAT-TGCTAACGCAGTCAG----GCACC-GTGT------ATGAA-ATCTAACAATG  \n",
    "---CGCTC-ATCGTCATCCTCGGCACCGTCACCCTGGAT-GCTGTAGGCATAGGCTTGG  \n",
    "TTATGCCGGTACTGCCGGGCCTCTTG---CGGGATATCGTCC-----A-TTCCG  \n",
    "\n",
    ">pBR327  \n",
    "TTCTCATGTTTGACAGCT-TAT-CATC-GATAAGCTTTAATGCGGTAG---TTTATCACA  \n",
    "GTTAAAT-TGCTAACGCAGTCAG----GCACC-GTGT------ATGAA-ATCTAACAATG  \n",
    "---CGCTC-ATCGTCATCCTCGGCACCGTCACCCTGGAT-GCTGTAGGCATAGGCTTGG  \n",
    "TTATGCCGGTACTGCCGGGCCTCTTG---CGGGATATCGTCC-----A-TTCCG  \n",
    "\n",
    ">pGEX2T  \n",
    "ACGTTAT---CGACTGCACGGTGCACC-AA--TGCTTC-TGGCGTCAG---GCAGCCATC  \n",
    "GGAAGCTGTGGTATGGCTGT-------GCAGG-TCGT------AAATCACTGC-ATAATT  \n",
    "---CGT---GTCGCTCAAG-GCGCACTCCCGTTCTGGAT-AATGTTTTTTGCGCCGACAT  \n",
    "CATAACGGTTCTGGCAAATATTCTGAAATGAGCTGTTGACAATTAATCATCGG  \n",
    "\n",
    ">pHSG575  \n",
    "TGATGTC---CGGCGGTGCTTT-TGCC-GTTACGCACCACCCCGTCAGTAGCTGAACAG  \n",
    "-GAGGGAC-AGCTGATAGAAACAG----AAGCCACTGGAGCACCTCAAAAACACCATCA  \n",
    "TA---CACTAAATCA-CTAAGTTGGCAGCATCACCC--GAC-GCACTTTGCGCCGAAT---A    \n",
    "AATACCTGTGACGGAAGATCACTTC--GCAGAATAA---------AT-AAATC      \n",
    "\n",
    "And the guide tree is:\n",
    "\n",
    "((pACYC184:0.14250,((pBR322:0.00000,pBR327:0.00000):0.00500,pBR325:0.00500):0.14250):0.00250,pGEX2T:0.13250,pHSG575:0.13750);\n"
   ]
  },
  {
   "cell_type": "markdown",
   "metadata": {},
   "source": [
    "### b) Obtain another multiple sequence alignment for the same sequences using the multiple sequence alignment program WebPRANK. Report the multiple sequence alignment and the guide tree used for constructing it."
   ]
  },
  {
   "cell_type": "markdown",
   "metadata": {},
   "source": [
    "The alignment was:\n",
    "\n",
    ">pACYC184  \n",
    "--------GAATTCCGGATG-------------AGCATTCATCAGGCGGGCAAGAATGTGAATAAAGGCCGGATAAAACTTGTGCTTATTTTTCTTTACGGTCTTTAAAAAGGCCGTAATAT--CC------------AGCTGAAC-----GGTCTGGTTATAGGTACATTGAGCAACTGAC---TGAA--------ATGCCTCAA-------------------------------------AA-------------------------------------------TGTTCTTTACG--------ATGCCATT---GGGATATATCAACGGTGG------------------TATATC----------\n",
    "\n",
    ">pHSG575  \n",
    "-------TGATGTCCGGCGG-------------TGCTTTT------------------------------------------------------------------------GCCGTTACGC--ACCACCCCGTCAGTAGCTGAACAGGAGGGACAGCTGATAGAAACA-----GAAGCCAC---TGGA--------GCACCTCAA-------------------------------------AAACACCATCATACACTAAATCACTAAGTTGGCAGCATCACCCGACGCACTTTGCGCCGAATAAATACCTGT---G----------ACGGAAGATCACTTCGCAGAATAAATAAATC----------\n",
    "\n",
    ">pGEX2T  \n",
    "-------ACGTTATCGACTGCACGGTGCACCAATGCTTCT------------------------------------------------------------------------GGCGTCAGGCAGCC------------ATCGGAAGCTGTGGTATGGCTGTGCAGGTCG-----TAAATCAC---TGCATAATTCGTGTCGCTCAAGGCGC-----------------ACTCCCGTTCTGGATAA-------------------------------------------TGTTTTTTGCGCCGACATCATAACGGTTCTGGCAAATATTCTGAAATGAGCTGTTGAC------AATTAATCATCGG-----\n",
    "\n",
    ">pBR327  \n",
    "----TTCTCATGTTTGACAGCTTATCATCGATAAGCTT------------------------------------------------------------------------------TAATGCGGTA------------GTTTATCACAGTTAAATTGCTAACGCAGTCA-----GGCACCGTGTATGAA--------ATCTAACAATGCGCTCATCGTCATCCTCGGCACCGTCACCCTGGATGC-------------------------------------------TGTAGGCATAGGCTTGGTTATGCCGGTACTGCC--------------GGGCCTCTTGC------GGGATATCGTCCATTCCG\n",
    "\n",
    ">pBR325  \n",
    "AGGC----CATGTTTGACAGCTTATCATCGATAAGCTT------------------------------------------------------------------------------TAATGCGGTA------------GTTTATCACAGTTAAATTGCTAACGCAGTCA-----GGCACCGTGTATGAA--------ATCTAACAATGCGCTCATCGTCATCCTCGGCACCGTCACCCTGGATGC-------------------------------------------TGTAGGCATAGGCTTGGTTATGCCGGTACTGCC--------------GGGCCTCTTGC------GGGATATCGTCCATTCCG\n",
    "\n",
    ">pBR322  \n",
    "----TTCTCATGTTTGACAGCTTATCATCGATAAGCTT------------------------------------------------------------------------------TAATGCGGTA------------GTTTATCACAGTTAAATTGCTAACGCAGTCA-----GGCACCGTGTATGAA--------ATCTAACAATGCGCTCATCGTCATCCTCGGCACCGTCACCCTGGATGC-------------------------------------------TGTAGGCATAGGCTTGGTTATGCCGGTACTGCC--------------GGGCCTCTTGC------GGGATATCGTCCATTCCG\n",
    "\n",
    "And the guide tree is:\n",
    "\n",
    "(((pBR322:0.0001,pBR327:0.0001):0.005,pBR325:0.005):0.14,((pGEX2T:0.1325,pHSG575:0.1375):0.0025,pACYC184:0.1425):0.0025);"
   ]
  },
  {
   "cell_type": "markdown",
   "metadata": {},
   "source": [
    "### c) Recalculate the WebPRANK alignment using the guide tree produced by T-Coffee. The phylogenetic tree can be entered into the WebPRANK program in the Basic Alignment Options part of the form by using a string input. Report the resulting multiple sequence alignment and guide tree."
   ]
  },
  {
   "cell_type": "markdown",
   "metadata": {},
   "source": [
    "The alignment was:\n",
    "\n",
    ">pBR322  \n",
    "--------TTCTCAT----------GTTTGACAGCTTATCATCGATAAGCTTTAATGCGGTAGTTTATCACAGTTAAATTGCTAACGCAGTCAGGCACCGTGTATGAAATCTAACAATGCGCTCATCGTCATCCTCGGCACCGTCACC----CT--GGATGCTGTAGGCATA------GGCTTGGTTAT--------------------GCCGGT-----------------------------------------------------------------------ACTGCCGGGCCTCTTGCGGGAT-----------------------------ATCGTCCATTCCG----------------------------------------------------------\n",
    "\n",
    ">pBR327  \n",
    "--------TTCTCAT----------GTTTGACAGCTTATCATCGATAAGCTTTAATGCGGTAGTTTATCACAGTTAAATTGCTAACGCAGTCAGGCACCGTGTATGAAATCTAACAATGCGCTCATCGTCATCCTCGGCACCGTCACC----CT--GGATGCTGTAGGCATA------GGCTTGGTTAT--------------------GCCGGT-----------------------------------------------------------------------ACTGCCGGGCCTCTTGCGGGAT-----------------------------ATCGTCCATTCCG----------------------------------------------------------\n",
    "\n",
    ">pBR325  \n",
    "AGGC--------CAT----------GTTTGACAGCTTATCATCGATAAGCTTTAATGCGGTAGTTTATCACAGTTAAATTGCTAACGCAGTCAGGCACCGTGTATGAAATCTAACAATGCGCTCATCGTCATCCTCGGCACCGTCACC----CT--GGATGCTGTAGGCATA------GGCTTGGTTAT--------------------GCCGGT-----------------------------------------------------------------------ACTGCCGGGCCTCTTGCGGGAT-----------------------------ATCGTCCATTCCG----------------------------------------------------------\n",
    "  \n",
    ">pGEX2T  \n",
    "----ACGT----TATCGACTGCACGGTGCACCAA---------------------------------------------TGCTTCTGGCGTCAGGC-------------------------------------------------AGC----CATCGGAAGCTG-------T------GGTATGGCTGT--------------------GCAGGTCG-----------------TAAA------------------------TCACTGCATAATTCGTGTCGCTCAAG-GCGCACTCCCGTTCTGGAT-----------------------------AATGTTTTTTGCGCCGAC-------------------ATCAT-----------------------------\n",
    "\n",
    ">pHSG575  \n",
    "-------T----GAT----------GTCCGGCGG---------------------------------------------TGCTTTTGCCGTTACGC-------------------------------------------------ACCACCCCGTCAGTAGCTG-------AACAGGAGGGACAGCTGATAGAAACAGAAGCCACTGGAGCACCTCAAAAACACCATCATACACTAAA------------------------TCACTAAGTTGGCAGCATCACCCGAC-GCAC---------------------------------------------------TTTGCGCCGAATAAATACCTGTGACGGAAGATCACTTCGCAGAATAAAT----------AAATC\n",
    "\n",
    ">pACYC184  \n",
    "------------GAA----------TTCCGGATG---------------------------------------------AGCATT---CATCAGGC-------------------------------------------------GGG----CA--AGAATGTG-------A------ATAAAGGCCGG---------------------------A-----------------TAAAACTTGTGCTTATTTTTCTTTACGGTCTTTAAAAAGGCCGTAATATCCAGCTGAACGGTCTGGTTATAGGTACATTGAGCAACTGACTGAAATGCCTCAAAATGTTCTTTACGATGCC-------------------AT-------TGGGATATATCAACGGTGGTATATC\n",
    "\n",
    "And the guide tree is:\n",
    "\n",
    "(((pACYC184:0.1311,pHSG575:0.1338):0.072,pGEX2T:0.1919):0.0543,((pBR327:0.0001,pBR325:0.0001):0.0001,pBR322:0.0001):0.2601);"
   ]
  },
  {
   "cell_type": "markdown",
   "metadata": {},
   "source": [
    "### d) Comment on the differences between the multiple sequence alignments from (a), (b) and (c). Keep your answer as concise as possible."
   ]
  },
  {
   "cell_type": "markdown",
   "metadata": {},
   "source": [
    "The main difference between the three alignments is the number of gaps, for the alignment (a) we have a more optimal alignment, there are fewer gaps between the sequences and there is a low value of entropy, for the alignments (b) and (c) there is a very high number of gaps and a high value of entropy due to the mismatch of some base pairs in the sequences.    "
   ]
  },
  {
   "cell_type": "markdown",
   "metadata": {},
   "source": [
    "### e) Include how long you put on this question."
   ]
  },
  {
   "cell_type": "markdown",
   "metadata": {},
   "source": [
    "Two hours aproximately"
   ]
  },
  {
   "cell_type": "code",
   "execution_count": null,
   "metadata": {},
   "outputs": [],
   "source": []
  }
 ],
 "metadata": {
  "kernelspec": {
   "display_name": "Python 3",
   "language": "python",
   "name": "python3"
  },
  "language_info": {
   "codemirror_mode": {
    "name": "ipython",
    "version": 3
   },
   "file_extension": ".py",
   "mimetype": "text/x-python",
   "name": "python",
   "nbconvert_exporter": "python",
   "pygments_lexer": "ipython3",
   "version": "3.7.4"
  }
 },
 "nbformat": 4,
 "nbformat_minor": 2
}
