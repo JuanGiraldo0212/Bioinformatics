{
 "cells": [
  {
   "cell_type": "markdown",
   "metadata": {},
   "source": [
    "# Assigment 2\n",
    "### Juan Giraldo"
   ]
  },
  {
   "cell_type": "markdown",
   "metadata": {},
   "source": [
    "## 1) Programming: Optimal Local and Global Pairwise Sequence Alignment"
   ]
  },
  {
   "cell_type": "markdown",
   "metadata": {},
   "source": [
    "Given two DNA sequences, find in the best local and global alignment, its corresponding alignment score, the possibility of existing multiple optimal alignments, and, if the answer is positive, the set of all optimal alignments.\n",
    "\n",
    "s(i,j) = {+2 if i and j match, -1 if mismatch}  \n",
    "y(g) = -2g"
   ]
  },
  {
   "cell_type": "markdown",
   "metadata": {},
   "source": [
    "First we load the data from the input file (The file needs to be in the same folder as the notebook for this to work) and store the values in variables"
   ]
  },
  {
   "cell_type": "code",
   "execution_count": 56,
   "metadata": {},
   "outputs": [
    {
     "name": "stdout",
     "output_type": "stream",
     "text": [
      "ATCAGAGTC\n",
      "TTCAGTC\n"
     ]
    }
   ],
   "source": [
    "f = open(\"2.in\", \"r\")\n",
    "x_seq = f.readline().strip()\n",
    "y_seq = f.readline().strip()\n",
    "print(x_seq)\n",
    "print(y_seq)"
   ]
  },
  {
   "cell_type": "code",
   "execution_count": 46,
   "metadata": {},
   "outputs": [],
   "source": [
    "def print_matrix(matrix):\n",
    "    formatted_matrix = \"\"\n",
    "    for i in range(len(matrix)):\n",
    "        row = \"\"\n",
    "        for j in range(len(matrix[0])):\n",
    "            row+= str(matrix[i][j])\n",
    "            if j!= len(matrix[0]):\n",
    "                row+=\" \"\n",
    "        row+= \"\\n\"\n",
    "        formatted_matrix+=row\n",
    "    print (formatted_matrix)"
   ]
  },
  {
   "cell_type": "code",
   "execution_count": 73,
   "metadata": {},
   "outputs": [],
   "source": [
    "def scoring(i, j):\n",
    "    first_letter = y_seq[j-1]\n",
    "    second_letter = x_seq[i-1]\n",
    "    print(first_letter + \"-\" + second_letter)\n",
    "    if first_letter == second_letter:\n",
    "        return 2\n",
    "    else:\n",
    "        return -1"
   ]
  },
  {
   "cell_type": "markdown",
   "metadata": {},
   "source": [
    "Now we will use the Needleman-Wunch algorithm to find the optimal global aligment, first we have to build the dynamic programing matrix"
   ]
  },
  {
   "cell_type": "code",
   "execution_count": 75,
   "metadata": {},
   "outputs": [
    {
     "name": "stdout",
     "output_type": "stream",
     "text": [
      "T-A\n",
      "T-A\n",
      "C-A\n",
      "A-A\n",
      "G-A\n",
      "T-A\n",
      "C-A\n",
      "T-T\n",
      "T-T\n",
      "C-T\n",
      "A-T\n",
      "G-T\n",
      "T-T\n",
      "C-T\n",
      "T-C\n",
      "T-C\n",
      "C-C\n",
      "A-C\n",
      "G-C\n",
      "T-C\n",
      "C-C\n",
      "T-A\n",
      "T-A\n",
      "C-A\n",
      "A-A\n",
      "G-A\n",
      "T-A\n",
      "C-A\n",
      "T-G\n",
      "T-G\n",
      "C-G\n",
      "A-G\n",
      "G-G\n",
      "T-G\n",
      "C-G\n",
      "T-A\n",
      "T-A\n",
      "C-A\n",
      "A-A\n",
      "G-A\n",
      "T-A\n",
      "C-A\n",
      "T-G\n",
      "T-G\n",
      "C-G\n",
      "A-G\n",
      "G-G\n",
      "T-G\n",
      "C-G\n",
      "T-T\n",
      "T-T\n",
      "C-T\n",
      "A-T\n",
      "G-T\n",
      "T-T\n",
      "C-T\n",
      "T-C\n",
      "T-C\n",
      "C-C\n",
      "A-C\n",
      "G-C\n",
      "T-C\n",
      "C-C\n",
      "0 -2 -4 -6 -8 -10 -12 -14 \n",
      "-2 -1 -3 -5 -4 -6 -8 -10 \n",
      "-4 0 1 -1 -3 -5 -4 -6 \n",
      "-6 -2 -1 3 1 -1 -3 -2 \n",
      "-8 -4 -3 1 5 3 1 -1 \n",
      "-10 -6 -5 -1 3 7 5 3 \n",
      "-12 -8 -7 -3 1 5 6 4 \n",
      "-14 -10 -9 -5 -1 3 4 5 \n",
      "-16 -12 -8 -7 -3 1 5 3 \n",
      "-18 -14 -10 -6 -5 -1 3 7 \n",
      "\n"
     ]
    }
   ],
   "source": [
    "gap = -2\n",
    "matrix =[[0 for x in range(len(y_seq)+1)] for y in range(len(x_seq)+1)]\n",
    "\n",
    "for i in range(len(matrix)):\n",
    "        for j in range(len(matrix[0])):\n",
    "            if i == 0:\n",
    "                matrix[i][j] = j*gap\n",
    "            elif j == 0:\n",
    "                matrix[i][j] = i*gap\n",
    "            else:\n",
    "                value1 = matrix[i-1][j-1] + scoring(i,j)\n",
    "                value2 = matrix[i-1][j] + gap\n",
    "                value3 = matrix[i][j-1] + gap\n",
    "                matrix[i][j] = max(value1, value2, value3)\n",
    "\n",
    "print_matrix(matrix)"
   ]
  },
  {
   "cell_type": "markdown",
   "metadata": {},
   "source": []
  }
 ],
 "metadata": {
  "kernelspec": {
   "display_name": "Python 3",
   "language": "python",
   "name": "python3"
  },
  "language_info": {
   "codemirror_mode": {
    "name": "ipython",
    "version": 3
   },
   "file_extension": ".py",
   "mimetype": "text/x-python",
   "name": "python",
   "nbconvert_exporter": "python",
   "pygments_lexer": "ipython3",
   "version": "3.7.4"
  }
 },
 "nbformat": 4,
 "nbformat_minor": 2
}
