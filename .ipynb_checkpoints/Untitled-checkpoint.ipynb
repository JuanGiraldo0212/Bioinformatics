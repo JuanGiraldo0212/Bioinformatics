{
 "cells": [
  {
   "cell_type": "markdown",
   "metadata": {},
   "source": [
    "# Assigment 2\n",
    "### Juan Giraldo"
   ]
  },
  {
   "cell_type": "markdown",
   "metadata": {},
   "source": [
    "## 1) Programming: Optimal Local and Global Pairwise Sequence Alignment"
   ]
  },
  {
   "cell_type": "markdown",
   "metadata": {},
   "source": [
    "Given two DNA sequences, find in the best local and global alignment, its corresponding alignment score, the possibility of existing multiple optimal alignments, and, if the answer is positive, the set of all optimal alignments.\n",
    "\n",
    "s(i,j) = {+2 if i and j match, -1 if mismatch}  \n",
    "y(g) = -2g"
   ]
  },
  {
   "cell_type": "markdown",
   "metadata": {},
   "source": [
    "First we load the data from the input file (The file needs to be in the same folder as the notebook for this to work) and store the values in variables"
   ]
  },
  {
   "cell_type": "code",
   "execution_count": 102,
   "metadata": {},
   "outputs": [],
   "source": [
    "MATCH_SCORE = 2\n",
    "MISMATCH_SCORE = -1\n",
    "GAP = -2"
   ]
  },
  {
   "cell_type": "code",
   "execution_count": 103,
   "metadata": {},
   "outputs": [
    {
     "name": "stdout",
     "output_type": "stream",
     "text": [
      "ATCAGAGTC\n",
      "TTCAGTC\n"
     ]
    }
   ],
   "source": [
    "f = open(\"2.in\", \"r\")\n",
    "x_seq = f.readline().strip()\n",
    "y_seq = f.readline().strip()\n",
    "print(x_seq)\n",
    "print(y_seq)"
   ]
  },
  {
   "cell_type": "code",
   "execution_count": 104,
   "metadata": {},
   "outputs": [],
   "source": [
    "def print_matrix(matrix):\n",
    "    formatted_matrix = \"\"\n",
    "    for i in range(len(matrix)):\n",
    "        row = \"\"\n",
    "        for j in range(len(matrix[0])):\n",
    "            row+= str(matrix[i][j])\n",
    "            if j != (len(matrix[0])-1):\n",
    "                row+=\" \"\n",
    "        row+= \"\\n\"\n",
    "        formatted_matrix+=row\n",
    "    print (formatted_matrix)"
   ]
  },
  {
   "cell_type": "code",
   "execution_count": 105,
   "metadata": {},
   "outputs": [],
   "source": [
    "def scoring(i, j):\n",
    "    if match(i, j):\n",
    "        return MATCH_SCORE\n",
    "    else:\n",
    "        return MISMATCH_SCORE"
   ]
  },
  {
   "cell_type": "code",
   "execution_count": 106,
   "metadata": {},
   "outputs": [],
   "source": [
    "def match(i, j):\n",
    "    first_letter = y_seq[j-1]\n",
    "    second_letter = x_seq[i-1]\n",
    "    return first_letter == second_letter"
   ]
  },
  {
   "cell_type": "markdown",
   "metadata": {},
   "source": [
    "Now we will use the Needleman-Wunch algorithm to find the optimal global aligment, first we have to build the dynamic programing matrix"
   ]
  },
  {
   "cell_type": "code",
   "execution_count": 127,
   "metadata": {
    "scrolled": true
   },
   "outputs": [
    {
     "name": "stdout",
     "output_type": "stream",
     "text": [
      "0 -2 -4 -6 -8 -10 -12 -14 -16 -18\n",
      "-2 -1 -3 -5 -4 -6 -8 -10 -12 -14\n",
      "-4 0 1 -1 -3 -5 -7 -9 -8 -10\n",
      "-6 -2 -1 3 1 -1 -3 -5 -7 -6\n",
      "-8 -4 -3 1 5 3 1 -1 -3 -5\n",
      "-10 -6 -5 -1 3 4 2 3 1 -1\n",
      "-12 -8 -7 -3 1 2 3 1 2 0\n",
      "-14 -10 -9 -5 -1 0 1 5 3 1\n",
      "-16 -12 -8 -7 -3 -2 -1 3 7 5\n",
      "-18 -14 -10 -6 -5 -4 -3 1 5 9\n",
      "\n"
     ]
    }
   ],
   "source": [
    "matrix =[[0 for x in range(len(y_seq)+1)] for y in range(len(x_seq)+1)]\n",
    "\n",
    "for i in range(len(matrix)):\n",
    "        for j in range(len(matrix[0])):\n",
    "            if i == 0:\n",
    "                matrix[i][j] = j*GAP\n",
    "            elif j == 0:\n",
    "                matrix[i][j] = i*GAP\n",
    "            else:\n",
    "                value1 = matrix[i-1][j-1] + scoring(i,j)\n",
    "                value2 = matrix[i-1][j] + GAP\n",
    "                value3 = matrix[i][j-1] + GAP\n",
    "                matrix[i][j] = max(value1, value2, value3)\n",
    "print_matrix(matrix)"
   ]
  },
  {
   "cell_type": "markdown",
   "metadata": {},
   "source": [
    "Now we can proced with the traceback in order to find the optimal aligment score and the arrows"
   ]
  },
  {
   "cell_type": "code",
   "execution_count": 128,
   "metadata": {},
   "outputs": [
    {
     "name": "stdout",
     "output_type": "stream",
     "text": [
      "['a', 'a', 'a', 'a', 'a', 'a', 'a', 'a', 'a']\n",
      "True\n"
     ]
    }
   ],
   "source": [
    "arrows = []\n",
    "score = matrix[i][j]\n",
    "multiple_sol = False\n",
    "while (i != 0 and j != 0):\n",
    "    if(match(i,j)):\n",
    "        i-=1\n",
    "        j-=1\n",
    "        arrows.append(\"a\")\n",
    "    else:\n",
    "        value_hash = {}\n",
    "        value1 = matrix[i-1][j-1]\n",
    "        value_hash[value1] = [i-1,j-1]\n",
    "        value2 = matrix[i-1][j]\n",
    "        value_hash[value2] = [i-1,j]\n",
    "        value3 = matrix[i][j-1] \n",
    "        value_hash[value3] = [i,j-1]\n",
    "        multiple_sol = len([value1, value2, value3]) != len(set([value1, value2, value3]))\n",
    "        positions = value_hash[max(value1, value2, value3)]\n",
    "        if((i-1 == positions[0]) and (j-1 == positions[1])):\n",
    "            arrows.append(\"a\")\n",
    "        else:\n",
    "            arrows.append(\"o\")\n",
    "        i = positions[0]\n",
    "        j = positions[1]\n",
    "print(arrows)\n",
    "print(multiple_sol)\n",
    "    "
   ]
  },
  {
   "cell_type": "code",
   "execution_count": 129,
   "metadata": {},
   "outputs": [
    {
     "name": "stdout",
     "output_type": "stream",
     "text": [
      "ATCAGAGTC\n",
      "TTCA--GTC\n"
     ]
    }
   ],
   "source": [
    "shortest_seq = x_seq if len(x_seq) < len(y_seq) else y_seq\n",
    "short_index = 0\n",
    "for i in range(len(arrows)):\n",
    "    arrow = arrows[i]\n",
    "    if arrow == \"o\":\n",
    "        shortest_seq = shortest_seq[:i] + '-' + shortest_seq[i:]\n",
    "if len(x_seq) < len(y_seq):\n",
    "    x_seq = shortest_seq\n",
    "else:\n",
    "    y_seq = shortest_seq\n",
    "print(x_seq)\n",
    "print(y_seq)"
   ]
  },
  {
   "cell_type": "code",
   "execution_count": null,
   "metadata": {},
   "outputs": [],
   "source": []
  }
 ],
 "metadata": {
  "kernelspec": {
   "display_name": "Python 3",
   "language": "python",
   "name": "python3"
  },
  "language_info": {
   "codemirror_mode": {
    "name": "ipython",
    "version": 3
   },
   "file_extension": ".py",
   "mimetype": "text/x-python",
   "name": "python",
   "nbconvert_exporter": "python",
   "pygments_lexer": "ipython3",
   "version": "3.7.4"
  }
 },
 "nbformat": 4,
 "nbformat_minor": 2
}
